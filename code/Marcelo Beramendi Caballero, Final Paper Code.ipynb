{
 "cells": [
  {
   "cell_type": "markdown",
   "id": "8a95b63b",
   "metadata": {},
   "source": [
    "# Setup"
   ]
  },
  {
   "cell_type": "code",
   "execution_count": 61,
   "id": "882a293b",
   "metadata": {
    "scrolled": false
   },
   "outputs": [
    {
     "name": "stdout",
     "output_type": "stream",
     "text": [
      "Requirement already satisfied: treys in c:\\users\\pedro\\anaconda3\\lib\\site-packages (0.1.8)\n"
     ]
    }
   ],
   "source": [
    "!pip install treys"
   ]
  },
  {
   "cell_type": "code",
   "execution_count": 62,
   "id": "6260cf51",
   "metadata": {},
   "outputs": [],
   "source": [
    "from treys import Card\n",
    "from treys import Deck\n",
    "from treys import Evaluator\n",
    "import pandas as pd\n",
    "import numpy as np"
   ]
  },
  {
   "cell_type": "markdown",
   "id": "c3c651bb",
   "metadata": {},
   "source": [
    "## Setting up previous functions for pre-flop hand evaluation"
   ]
  },
  {
   "cell_type": "code",
   "execution_count": 63,
   "id": "a55c0222",
   "metadata": {},
   "outputs": [],
   "source": [
    "hand_percentiles = {'AA':0, 'AKs':2, 'AQs':2, 'AJs':3,'ATs':5, 'A9s':8, 'A8s': 10, 'A7s':13, 'A6s': 14, 'A5s':12, 'A4s': 14, 'A3s':14, 'A2s': 17}\n",
    "extra1 = {\n",
    "    'AKo':5,\n",
    "    'KK':1,\n",
    "    'KQs':3,\n",
    "    'KJs':3,\n",
    "    'KTs':6,\n",
    "    'K9s':10,\n",
    "    'K8s':16,\n",
    "    'K7s':19,\n",
    "    'K6s':24,\n",
    "    'K5s':25,\n",
    "    'K4s':25,\n",
    "    'K3s':26,\n",
    "    'K2s':26,\n",
    "}\n",
    "\n",
    "extra2 = {\n",
    "    'AQo':8,\n",
    "    'KQo':9,\n",
    "    'QQ':1,\n",
    "    'QJs':5,\n",
    "    'QTs':6,\n",
    "    'Q9s':10,\n",
    "    'Q8s':19,\n",
    "    'Q7s':26,\n",
    "    'Q6s':28,\n",
    "    'Q5s':29,\n",
    "    'Q4s':29,\n",
    "    'Q3s':30,\n",
    "    'Q2s':31,\n",
    "    \n",
    "}\n",
    "\n",
    "extra3 = {\n",
    "    'AJo':12,\n",
    "    'KJo':14,\n",
    "    'QJo':15,\n",
    "    'JJ':2,\n",
    "    'JTs':6,\n",
    "    'J9s':11,\n",
    "    'J8s':17,\n",
    "    'J7s':27,\n",
    "    'J6s':33,\n",
    "    'J5s':35,\n",
    "    'J4s':37,\n",
    "    'J3s':37,\n",
    "    'J2s':38,\n",
    "}\n",
    "\n",
    "extra4 = {\n",
    "    'ATo':18,\n",
    "    'KTo':20,\n",
    "    'QTo':22,\n",
    "    'JTo':21,\n",
    "    'TT':4,\n",
    "    'T9s':10,\n",
    "    'T8s':16,\n",
    "    'T7s':25,\n",
    "    'T6s':31,\n",
    "    'T5s':40,\n",
    "    'T4s':40,\n",
    "    'T3s':41,\n",
    "    'T2s':41,\n",
    "}\n",
    "\n",
    "extra5 = {\n",
    "    'A9o':32,\n",
    "    'K9o':35,\n",
    "    'Q9o':36,\n",
    "    'J9o':34,\n",
    "    'T9o':31,\n",
    "    '99':7,\n",
    "    '98s':17,\n",
    "    '97s':24,\n",
    "    '96s':29,\n",
    "    '95s':38,\n",
    "    '94s':47,\n",
    "    '93s':47,\n",
    "    '92s':49,\n",
    "}\n",
    "\n",
    "extra6 = {\n",
    "    'A8o':39,\n",
    "    'K8o':50,\n",
    "    'Q8o':53,\n",
    "    'J8o':48,\n",
    "    'T8o':43,\n",
    "    '98o':42,\n",
    "    '88':9,\n",
    "    '87s':21,\n",
    "    '86s':27,\n",
    "    '85s':33,\n",
    "    '84s':40,\n",
    "    '83s':53,\n",
    "    '82s':54,\n",
    "}\n",
    "\n",
    "extra7 = {\n",
    "    'A7o':45,\n",
    "    'K7o':57,\n",
    "    'Q7o':66,\n",
    "    'J7o':64,\n",
    "    'T7o':59,\n",
    "    '97o':55,\n",
    "    '87o':52,\n",
    "    '77':12,\n",
    "    '76s':25,\n",
    "    '75s':28,\n",
    "    '74s':37,\n",
    "    '73s':45,\n",
    "    '72s':56,\n",
    "}\n",
    "\n",
    "extra8 = {\n",
    "    'A6o':51,\n",
    "    'K6o':60,\n",
    "    'Q6o':71,\n",
    "    'J6o':80,\n",
    "    'T6o':74,\n",
    "    '96o':68,\n",
    "    '86o':61,\n",
    "    '76o':57,\n",
    "    '66':16,\n",
    "    '65s':27,\n",
    "    '64s':29,\n",
    "    '63s':38,\n",
    "    '62s':49,\n",
    "}\n",
    "\n",
    "extra9 = {\n",
    "    'A5o':44,\n",
    "    'K5o':63,\n",
    "    'Q5o':75,\n",
    "    'J5o':82,\n",
    "    'T5o':89,\n",
    "    '95o':83,\n",
    "    '85o':73,\n",
    "    '75o':65,\n",
    "    '65o':58,\n",
    "    '55':20,\n",
    "    '54s':28,\n",
    "    '53s':32,\n",
    "    '52s':39,\n",
    "}\n",
    "\n",
    "extra10 = {\n",
    "    'A4o':46,\n",
    "    'K4o':67,\n",
    "    'Q4o':76,\n",
    "    'J4o':85,\n",
    "    'T4o':90,\n",
    "    '94o':95,\n",
    "    '84o':88,\n",
    "    '74o':78,\n",
    "    '64o':70,\n",
    "    '54o':62,\n",
    "    '44':23,\n",
    "    '43s':36,\n",
    "    '42s':41,\n",
    "}\n",
    "\n",
    "extra11 = {\n",
    "    'A3o':49,\n",
    "    'K3o':67,\n",
    "    'Q3o':77,\n",
    "    'J3o':86,\n",
    "    'T3o':92,\n",
    "    '93o':96,\n",
    "    '83o':98,\n",
    "    '73o':93,\n",
    "    '63o':81,\n",
    "    '53o':72,\n",
    "    '43o':76,\n",
    "    '33':23,\n",
    "    '32s':46,\n",
    "}\n",
    "\n",
    "extra12 = {\n",
    "    'A2o':54,\n",
    "    'K2o':69,\n",
    "    'Q2o':79,\n",
    "    'J2o':87,\n",
    "    'T2o':94,\n",
    "    '92o':97,\n",
    "    '82o':99,\n",
    "    '72o':100,\n",
    "    '62o':95,\n",
    "    '52o':84,\n",
    "    '42o':86,\n",
    "    '32o':91,\n",
    "    '22':24,\n",
    "}\n",
    "\n",
    "hand_percentiles.update(extra1)\n",
    "hand_percentiles.update(extra2)\n",
    "hand_percentiles.update(extra3)\n",
    "hand_percentiles.update(extra4)\n",
    "hand_percentiles.update(extra5)\n",
    "hand_percentiles.update(extra6)\n",
    "hand_percentiles.update(extra7)\n",
    "hand_percentiles.update(extra8)\n",
    "hand_percentiles.update(extra9)\n",
    "hand_percentiles.update(extra10)\n",
    "hand_percentiles.update(extra11)\n",
    "hand_percentiles.update(extra12)\n",
    "# hand_percentiles"
   ]
  },
  {
   "cell_type": "code",
   "execution_count": 64,
   "id": "4d302a70",
   "metadata": {},
   "outputs": [],
   "source": [
    "hand_scores = hand_percentiles.copy()\n",
    "for hand in hand_scores:\n",
    "    hand_scores[f'{hand}'] = round(1 - hand_percentiles[f'{hand}']/100,3)\n",
    "# hand_scores"
   ]
  },
  {
   "cell_type": "markdown",
   "id": "ea687053",
   "metadata": {},
   "source": [
    "# Learning to Use Treys Package for Poker"
   ]
  },
  {
   "cell_type": "code",
   "execution_count": 235,
   "id": "c57f8ad6",
   "metadata": {},
   "outputs": [],
   "source": [
    "board = [\n",
    "Card.new('Ah'),\n",
    "Card.new('Kd'),\n",
    "Card.new('Tc')\n",
    "]\n",
    "hand = [\n",
    "Card.new('Qs'),\n",
    "Card.new('Th')\n",
    "]"
   ]
  },
  {
   "cell_type": "code",
   "execution_count": 236,
   "id": "041a6f54",
   "metadata": {},
   "outputs": [
    {
     "name": "stdout",
     "output_type": "stream",
     "text": [
      " [A♥],[K♦],[T♣],[Q♠],[T♥] \n"
     ]
    }
   ],
   "source": [
    "Card.print_pretty_cards(board + hand)"
   ]
  },
  {
   "cell_type": "code",
   "execution_count": 237,
   "id": "1b0014af",
   "metadata": {
    "scrolled": true
   },
   "outputs": [
    {
     "name": "stdout",
     "output_type": "stream",
     "text": [
      "4206\n"
     ]
    }
   ],
   "source": [
    "evaluator = Evaluator()\n",
    "print(evaluator.evaluate(board, hand))"
   ]
  },
  {
   "cell_type": "code",
   "execution_count": 232,
   "id": "ef23d89c",
   "metadata": {},
   "outputs": [],
   "source": [
    "board = [\n",
    "Card.new('Ah'),\n",
    "Card.new('Kd'),\n",
    "Card.new('Jc'),\n",
    "]\n",
    "hand = [\n",
    "Card.new('Qs'),\n",
    "Card.new('Th')\n",
    "]"
   ]
  },
  {
   "cell_type": "code",
   "execution_count": 233,
   "id": "9c77f719",
   "metadata": {
    "scrolled": true
   },
   "outputs": [
    {
     "name": "stdout",
     "output_type": "stream",
     "text": [
      " [A♥],[K♦],[J♣],[Q♠],[T♥] \n"
     ]
    }
   ],
   "source": [
    "Card.print_pretty_cards(board + hand)"
   ]
  },
  {
   "cell_type": "code",
   "execution_count": 234,
   "id": "41219f4f",
   "metadata": {},
   "outputs": [
    {
     "name": "stdout",
     "output_type": "stream",
     "text": [
      "1600\n"
     ]
    }
   ],
   "source": [
    "evaluator = Evaluator()\n",
    "print(evaluator.evaluate(board, hand))"
   ]
  },
  {
   "cell_type": "markdown",
   "id": "954129c3",
   "metadata": {},
   "source": [
    "# Loading and Filtering Datasets to get the necessary columns with Pandas"
   ]
  },
  {
   "cell_type": "code",
   "execution_count": 140,
   "id": "76afc465",
   "metadata": {},
   "outputs": [],
   "source": [
    "Hellmuth_vs_Negreanu = pd.read_csv('Phil Hellmuth vs Daniel Negreanu, Round 2.csv')\n",
    "Hellmuth_vs_Negreanu = Hellmuth_vs_Negreanu[['Game State','Hand','Hand Card 1','Hand Card 2', 'Board Card 1', 'Board Card 2', 'Board Card 3', 'Board Card 4', 'Board Card 5','Pot Size in Big Blinds','Amount to Call in Big Blinds', 'Big Blinds Left', 'Opponent Big Blinds Left','Decision']]"
   ]
  },
  {
   "cell_type": "code",
   "execution_count": 141,
   "id": "45e767a4",
   "metadata": {},
   "outputs": [],
   "source": [
    "Hellmuth_vs_Dwan = pd.read_csv('Phil Hellmuth vs Tom Dwan, Round 2.csv')\n",
    "Hellmuth_vs_Dwan = Hellmuth_vs_Dwan[['Game State','Hand','Hand Card 1','Hand Card 2', 'Board Card 1', 'Board Card 2', 'Board Card 3', 'Board Card 4', 'Board Card 5','Pot Size in Big Blinds','Amount to Call in Big Blinds', 'Big Blinds Left', 'Opponent Big Blinds Left','Decision']]"
   ]
  },
  {
   "cell_type": "markdown",
   "id": "fa188171",
   "metadata": {},
   "source": [
    "## Separating Pre-flops from the rest of the game"
   ]
  },
  {
   "cell_type": "code",
   "execution_count": 142,
   "id": "431d50ce",
   "metadata": {},
   "outputs": [],
   "source": [
    "Hellmuth_vs_Negreanu_pre_flops = Hellmuth_vs_Negreanu.query('`Game State` == \"Pre-flop\"')\n",
    "Hellmuth_vs_Negreanu_post_flops = Hellmuth_vs_Negreanu.query('`Game State` != \"Pre-flop\"')"
   ]
  },
  {
   "cell_type": "code",
   "execution_count": 143,
   "id": "f6f32f7b",
   "metadata": {},
   "outputs": [],
   "source": [
    "Hellmuth_vs_Dwan_pre_flops = Hellmuth_vs_Dwan.query('`Game State` == \"Pre-flop\"')\n",
    "Hellmuth_vs_Dwan_post_flops = Hellmuth_vs_Dwan.query('`Game State` != \"Pre-flop\"')"
   ]
  },
  {
   "cell_type": "markdown",
   "id": "c1406c23",
   "metadata": {},
   "source": [
    "# Converting decisions to In or Out"
   ]
  },
  {
   "cell_type": "code",
   "execution_count": 144,
   "id": "2e280853",
   "metadata": {},
   "outputs": [],
   "source": [
    "Hellmuth_vs_Negreanu_pre_flops_in_or_out_decision = []\n",
    "for decision in Hellmuth_vs_Negreanu_pre_flops['Decision']:\n",
    "    if decision == 'Call' or decision == 'Raise' or decision == 'check':\n",
    "        Hellmuth_vs_Negreanu_pre_flops_in_or_out_decision.append('In')\n",
    "    else:\n",
    "        Hellmuth_vs_Negreanu_pre_flops_in_or_out_decision.append('Out')\n",
    "# in_or_out_decision"
   ]
  },
  {
   "cell_type": "code",
   "execution_count": 145,
   "id": "c3cef325",
   "metadata": {},
   "outputs": [],
   "source": [
    "Hellmuth_vs_Negreanu_post_flops_in_or_out_decision = []\n",
    "for decision in Hellmuth_vs_Negreanu_post_flops['Decision']:\n",
    "    if decision == 'Call' or decision == 'Raise' or decision == 'check':\n",
    "        Hellmuth_vs_Negreanu_post_flops_in_or_out_decision.append('In')\n",
    "    else:\n",
    "        Hellmuth_vs_Negreanu_post_flops_in_or_out_decision.append('Out')"
   ]
  },
  {
   "cell_type": "code",
   "execution_count": 148,
   "id": "52e800e9",
   "metadata": {},
   "outputs": [],
   "source": [
    "Hellmuth_vs_Dwan_pre_flops_in_or_out_decision = []\n",
    "for decision in Hellmuth_vs_Dwan_pre_flops['Decision']:\n",
    "    if decision == 'Call' or decision == 'Raise' or decision == 'check':\n",
    "        Hellmuth_vs_Dwan_pre_flops_in_or_out_decision.append('In')\n",
    "    else:\n",
    "        Hellmuth_vs_Dwan_pre_flops_in_or_out_decision.append('Out')"
   ]
  },
  {
   "cell_type": "code",
   "execution_count": 149,
   "id": "aab318f2",
   "metadata": {},
   "outputs": [],
   "source": [
    "Hellmuth_vs_Dwan_post_flops_in_or_out_decision = []\n",
    "for decision in Hellmuth_vs_Dwan_post_flops['Decision']:\n",
    "    if decision == 'Call' or decision == 'Raise' or decision == 'check':\n",
    "        Hellmuth_vs_Dwan_post_flops_in_or_out_decision.append('In')\n",
    "    else:\n",
    "        Hellmuth_vs_Dwan_post_flops_in_or_out_decision.append('Out')"
   ]
  },
  {
   "cell_type": "markdown",
   "id": "1aee1975",
   "metadata": {},
   "source": [
    "## Converting card data into useful comparative metrics"
   ]
  },
  {
   "cell_type": "markdown",
   "id": "3c42cc25",
   "metadata": {},
   "source": [
    "### Converting Pre-flop hands to hand values"
   ]
  },
  {
   "cell_type": "code",
   "execution_count": 150,
   "id": "fe057eec",
   "metadata": {},
   "outputs": [],
   "source": [
    "Hellmuth_vs_Negreanu_pre_flops_hand_values = []\n",
    "for card1 in Hellmuth_vs_Negreanu_pre_flops['Hand']:\n",
    "    Hellmuth_vs_Negreanu_pre_flops_hand_values.append(hand_scores[card1])"
   ]
  },
  {
   "cell_type": "code",
   "execution_count": 151,
   "id": "341395cc",
   "metadata": {},
   "outputs": [],
   "source": [
    "Hellmuth_vs_Dwan_pre_flops_hand_values = []\n",
    "for card1 in Hellmuth_vs_Dwan_pre_flops['Hand']:\n",
    "    Hellmuth_vs_Dwan_pre_flops_hand_values.append(hand_scores[card1])"
   ]
  },
  {
   "cell_type": "markdown",
   "id": "52f38fe4",
   "metadata": {},
   "source": [
    "### Converting Post-flop hands and boards to hand values"
   ]
  },
  {
   "cell_type": "code",
   "execution_count": 153,
   "id": "e75c1c2a",
   "metadata": {},
   "outputs": [],
   "source": [
    "Hellmuth_vs_Negreanu_post_flops_rankings = []\n",
    "for i in np.arange(len(Hellmuth_vs_Negreanu_post_flops)):\n",
    "    if Hellmuth_vs_Negreanu_post_flops['Game State'].iloc[i] == \"Flop\":\n",
    "        board = [\n",
    "        Card.new(Hellmuth_vs_Negreanu_post_flops['Board Card 1'].iloc[i]),\n",
    "        Card.new(Hellmuth_vs_Negreanu_post_flops['Board Card 2'].iloc[i]),\n",
    "        Card.new(Hellmuth_vs_Negreanu_post_flops['Board Card 3'].iloc[i]),\n",
    "        ]\n",
    "        \n",
    "        hand = [\n",
    "        Card.new(Hellmuth_vs_Negreanu_post_flops['Hand Card 1'].iloc[i]),\n",
    "        Card.new(Hellmuth_vs_Negreanu_post_flops['Hand Card 2'].iloc[i])\n",
    "        ]\n",
    "        evaluator = Evaluator()\n",
    "        Hellmuth_vs_Negreanu_post_flops_rankings.append(evaluator.evaluate(board, hand))\n",
    "        \n",
    "    if Hellmuth_vs_Negreanu_post_flops['Game State'].iloc[i] == \"Turn\":\n",
    "        board = [\n",
    "        Card.new(Hellmuth_vs_Negreanu_post_flops['Board Card 1'].iloc[i]),\n",
    "        Card.new(Hellmuth_vs_Negreanu_post_flops['Board Card 2'].iloc[i]),\n",
    "        Card.new(Hellmuth_vs_Negreanu_post_flops['Board Card 3'].iloc[i]),\n",
    "        Card.new(Hellmuth_vs_Negreanu_post_flops['Board Card 4'].iloc[i]),\n",
    "        ]\n",
    "        \n",
    "        hand = [\n",
    "        Card.new(Hellmuth_vs_Negreanu_post_flops['Hand Card 1'].iloc[i]),\n",
    "        Card.new(Hellmuth_vs_Negreanu_post_flops['Hand Card 2'].iloc[i])\n",
    "        ]\n",
    "        evaluator = Evaluator()\n",
    "        Hellmuth_vs_Negreanu_post_flops_rankings.append(evaluator.evaluate(board, hand))\n",
    "    if Hellmuth_vs_Negreanu_post_flops['Game State'].iloc[i] == \"River\":\n",
    "        board = [\n",
    "        Card.new(Hellmuth_vs_Negreanu_post_flops['Board Card 1'].iloc[i]),\n",
    "        Card.new(Hellmuth_vs_Negreanu_post_flops['Board Card 2'].iloc[i]),\n",
    "        Card.new(Hellmuth_vs_Negreanu_post_flops['Board Card 3'].iloc[i]),\n",
    "        Card.new(Hellmuth_vs_Negreanu_post_flops['Board Card 4'].iloc[i]),\n",
    "        Card.new(Hellmuth_vs_Negreanu_post_flops['Board Card 5'].iloc[i]),\n",
    "        ]\n",
    "        \n",
    "        hand = [\n",
    "        Card.new(Hellmuth_vs_Negreanu_post_flops['Hand Card 1'].iloc[i]),\n",
    "        Card.new(Hellmuth_vs_Negreanu_post_flops['Hand Card 2'].iloc[i])\n",
    "        ]\n",
    "        evaluator = Evaluator()\n",
    "        Hellmuth_vs_Negreanu_post_flops_rankings.append(evaluator.evaluate(board, hand))   "
   ]
  },
  {
   "cell_type": "code",
   "execution_count": 154,
   "id": "432d2a18",
   "metadata": {},
   "outputs": [],
   "source": [
    "Hellmuth_vs_Dwan_post_flops_rankings = []\n",
    "for i in np.arange(len(Hellmuth_vs_Dwan_post_flops)):\n",
    "    if Hellmuth_vs_Dwan_post_flops['Game State'].iloc[i] == \"Flop\":\n",
    "        board = [\n",
    "        Card.new(Hellmuth_vs_Dwan_post_flops['Board Card 1'].iloc[i]),\n",
    "        Card.new(Hellmuth_vs_Dwan_post_flops['Board Card 2'].iloc[i]),\n",
    "        Card.new(Hellmuth_vs_Dwan_post_flops['Board Card 3'].iloc[i]),\n",
    "        ]\n",
    "        \n",
    "        hand = [\n",
    "        Card.new(Hellmuth_vs_Dwan_post_flops['Hand Card 1'].iloc[i]),\n",
    "        Card.new(Hellmuth_vs_Dwan_post_flops['Hand Card 2'].iloc[i])\n",
    "        ]\n",
    "        evaluator = Evaluator()\n",
    "        Hellmuth_vs_Dwan_post_flops_rankings.append(evaluator.evaluate(board, hand))\n",
    "        \n",
    "    elif Hellmuth_vs_Dwan_post_flops['Game State'].iloc[i] == \"Turn\":\n",
    "        board = [\n",
    "        Card.new(Hellmuth_vs_Dwan_post_flops['Board Card 1'].iloc[i]),\n",
    "        Card.new(Hellmuth_vs_Dwan_post_flops['Board Card 2'].iloc[i]),\n",
    "        Card.new(Hellmuth_vs_Dwan_post_flops['Board Card 3'].iloc[i]),\n",
    "        Card.new(Hellmuth_vs_Dwan_post_flops['Board Card 4'].iloc[i]),\n",
    "        ]\n",
    "        \n",
    "        hand = [\n",
    "        Card.new(Hellmuth_vs_Dwan_post_flops['Hand Card 1'].iloc[i]),\n",
    "        Card.new(Hellmuth_vs_Dwan_post_flops['Hand Card 2'].iloc[i])\n",
    "        ]\n",
    "        evaluator = Evaluator()\n",
    "        Hellmuth_vs_Dwan_post_flops_rankings.append(evaluator.evaluate(board, hand))\n",
    "    else:\n",
    "        board = [\n",
    "        Card.new(Hellmuth_vs_Dwan_post_flops['Board Card 1'].iloc[i]),\n",
    "        Card.new(Hellmuth_vs_Dwan_post_flops['Board Card 2'].iloc[i]),\n",
    "        Card.new(Hellmuth_vs_Dwan_post_flops['Board Card 3'].iloc[i]),\n",
    "        Card.new(Hellmuth_vs_Dwan_post_flops['Board Card 4'].iloc[i]),\n",
    "        Card.new(Hellmuth_vs_Dwan_post_flops['Board Card 5'].iloc[i]),\n",
    "        ]\n",
    "        \n",
    "        hand = [\n",
    "        Card.new(Hellmuth_vs_Dwan_post_flops['Hand Card 1'].iloc[i]),\n",
    "        Card.new(Hellmuth_vs_Dwan_post_flops['Hand Card 2'].iloc[i])\n",
    "        ]\n",
    "        evaluator = Evaluator()\n",
    "        Hellmuth_vs_Dwan_post_flops_rankings.append(evaluator.evaluate(board, hand))   "
   ]
  },
  {
   "cell_type": "markdown",
   "id": "ef58e147",
   "metadata": {},
   "source": [
    "### Final step of data pre processing for Hellmuth vs Negreanu"
   ]
  },
  {
   "cell_type": "code",
   "execution_count": 155,
   "id": "efe75dde",
   "metadata": {},
   "outputs": [
    {
     "name": "stderr",
     "output_type": "stream",
     "text": [
      "C:\\Users\\pedro\\AppData\\Local\\Temp/ipykernel_15896/1952843085.py:2: SettingWithCopyWarning: \n",
      "A value is trying to be set on a copy of a slice from a DataFrame.\n",
      "Try using .loc[row_indexer,col_indexer] = value instead\n",
      "\n",
      "See the caveats in the documentation: https://pandas.pydata.org/pandas-docs/stable/user_guide/indexing.html#returning-a-view-versus-a-copy\n",
      "  Hellmuth_vs_Negreanu_pre_flop_dataset['Hand Value'] = Hellmuth_vs_Negreanu_pre_flops_hand_values\n",
      "C:\\Users\\pedro\\AppData\\Local\\Temp/ipykernel_15896/1952843085.py:3: SettingWithCopyWarning: \n",
      "A value is trying to be set on a copy of a slice from a DataFrame.\n",
      "Try using .loc[row_indexer,col_indexer] = value instead\n",
      "\n",
      "See the caveats in the documentation: https://pandas.pydata.org/pandas-docs/stable/user_guide/indexing.html#returning-a-view-versus-a-copy\n",
      "  Hellmuth_vs_Negreanu_pre_flop_dataset['In_or_Out_Decision'] = Hellmuth_vs_Negreanu_pre_flops_in_or_out_decision\n"
     ]
    }
   ],
   "source": [
    "Hellmuth_vs_Negreanu_pre_flop_dataset = Hellmuth_vs_Negreanu_pre_flops[['Pot Size in Big Blinds','Amount to Call in Big Blinds', 'Big Blinds Left', 'Opponent Big Blinds Left']]\n",
    "Hellmuth_vs_Negreanu_pre_flop_dataset['Hand Value'] = Hellmuth_vs_Negreanu_pre_flops_hand_values\n",
    "Hellmuth_vs_Negreanu_pre_flop_dataset['In_or_Out_Decision'] = Hellmuth_vs_Negreanu_pre_flops_in_or_out_decision\n",
    "# Hellmuth_vs_Negreanu_pre_flop_dataset"
   ]
  },
  {
   "cell_type": "code",
   "execution_count": 156,
   "id": "56e9045c",
   "metadata": {},
   "outputs": [
    {
     "name": "stderr",
     "output_type": "stream",
     "text": [
      "C:\\Users\\pedro\\AppData\\Local\\Temp/ipykernel_15896/1290742863.py:2: SettingWithCopyWarning: \n",
      "A value is trying to be set on a copy of a slice from a DataFrame.\n",
      "Try using .loc[row_indexer,col_indexer] = value instead\n",
      "\n",
      "See the caveats in the documentation: https://pandas.pydata.org/pandas-docs/stable/user_guide/indexing.html#returning-a-view-versus-a-copy\n",
      "  Hellmuth_vs_Negreanu_post_flop_dataset['Hand Ranking'] = Hellmuth_vs_Negreanu_post_flops_rankings\n",
      "C:\\Users\\pedro\\AppData\\Local\\Temp/ipykernel_15896/1290742863.py:3: SettingWithCopyWarning: \n",
      "A value is trying to be set on a copy of a slice from a DataFrame.\n",
      "Try using .loc[row_indexer,col_indexer] = value instead\n",
      "\n",
      "See the caveats in the documentation: https://pandas.pydata.org/pandas-docs/stable/user_guide/indexing.html#returning-a-view-versus-a-copy\n",
      "  Hellmuth_vs_Negreanu_post_flop_dataset['In_or_Out_Decision'] = Hellmuth_vs_Negreanu_post_flops_in_or_out_decision\n"
     ]
    }
   ],
   "source": [
    "Hellmuth_vs_Negreanu_post_flop_dataset = Hellmuth_vs_Negreanu_post_flops[['Pot Size in Big Blinds','Amount to Call in Big Blinds', 'Big Blinds Left', 'Opponent Big Blinds Left']]\n",
    "Hellmuth_vs_Negreanu_post_flop_dataset['Hand Ranking'] = Hellmuth_vs_Negreanu_post_flops_rankings\n",
    "Hellmuth_vs_Negreanu_post_flop_dataset['In_or_Out_Decision'] = Hellmuth_vs_Negreanu_post_flops_in_or_out_decision\n",
    "# Hellmuth_vs_Negreanu_post_flop_dataset"
   ]
  },
  {
   "cell_type": "markdown",
   "id": "4b3de11b",
   "metadata": {},
   "source": [
    "### Final step of data pre processing for Hellmuth vs Dwan"
   ]
  },
  {
   "cell_type": "code",
   "execution_count": 157,
   "id": "d39acf0f",
   "metadata": {},
   "outputs": [
    {
     "name": "stderr",
     "output_type": "stream",
     "text": [
      "C:\\Users\\pedro\\AppData\\Local\\Temp/ipykernel_15896/4244865563.py:2: SettingWithCopyWarning: \n",
      "A value is trying to be set on a copy of a slice from a DataFrame.\n",
      "Try using .loc[row_indexer,col_indexer] = value instead\n",
      "\n",
      "See the caveats in the documentation: https://pandas.pydata.org/pandas-docs/stable/user_guide/indexing.html#returning-a-view-versus-a-copy\n",
      "  Hellmuth_vs_Dwan_pre_flop_dataset['Hand Value'] = Hellmuth_vs_Dwan_pre_flops_hand_values\n",
      "C:\\Users\\pedro\\AppData\\Local\\Temp/ipykernel_15896/4244865563.py:3: SettingWithCopyWarning: \n",
      "A value is trying to be set on a copy of a slice from a DataFrame.\n",
      "Try using .loc[row_indexer,col_indexer] = value instead\n",
      "\n",
      "See the caveats in the documentation: https://pandas.pydata.org/pandas-docs/stable/user_guide/indexing.html#returning-a-view-versus-a-copy\n",
      "  Hellmuth_vs_Dwan_pre_flop_dataset['In_or_Out_Decision'] = Hellmuth_vs_Dwan_pre_flops_in_or_out_decision\n"
     ]
    }
   ],
   "source": [
    "Hellmuth_vs_Dwan_pre_flop_dataset = Hellmuth_vs_Dwan_pre_flops[['Pot Size in Big Blinds','Amount to Call in Big Blinds', 'Big Blinds Left', 'Opponent Big Blinds Left']]\n",
    "Hellmuth_vs_Dwan_pre_flop_dataset['Hand Value'] = Hellmuth_vs_Dwan_pre_flops_hand_values\n",
    "Hellmuth_vs_Dwan_pre_flop_dataset['In_or_Out_Decision'] = Hellmuth_vs_Dwan_pre_flops_in_or_out_decision\n",
    "# Hellmuth_vs_Dwan_pre_flop_dataset"
   ]
  },
  {
   "cell_type": "code",
   "execution_count": 158,
   "id": "df01b203",
   "metadata": {},
   "outputs": [
    {
     "name": "stderr",
     "output_type": "stream",
     "text": [
      "C:\\Users\\pedro\\AppData\\Local\\Temp/ipykernel_15896/3926764774.py:2: SettingWithCopyWarning: \n",
      "A value is trying to be set on a copy of a slice from a DataFrame.\n",
      "Try using .loc[row_indexer,col_indexer] = value instead\n",
      "\n",
      "See the caveats in the documentation: https://pandas.pydata.org/pandas-docs/stable/user_guide/indexing.html#returning-a-view-versus-a-copy\n",
      "  Hellmuth_vs_Dwan_post_flop_dataset['Hand Ranking'] = Hellmuth_vs_Dwan_post_flops_rankings\n",
      "C:\\Users\\pedro\\AppData\\Local\\Temp/ipykernel_15896/3926764774.py:3: SettingWithCopyWarning: \n",
      "A value is trying to be set on a copy of a slice from a DataFrame.\n",
      "Try using .loc[row_indexer,col_indexer] = value instead\n",
      "\n",
      "See the caveats in the documentation: https://pandas.pydata.org/pandas-docs/stable/user_guide/indexing.html#returning-a-view-versus-a-copy\n",
      "  Hellmuth_vs_Dwan_post_flop_dataset['In_or_Out_Decision'] = Hellmuth_vs_Dwan_post_flops_in_or_out_decision\n"
     ]
    }
   ],
   "source": [
    "Hellmuth_vs_Dwan_post_flop_dataset = Hellmuth_vs_Dwan_post_flops[['Pot Size in Big Blinds','Amount to Call in Big Blinds', 'Big Blinds Left', 'Opponent Big Blinds Left']]\n",
    "Hellmuth_vs_Dwan_post_flop_dataset['Hand Ranking'] = Hellmuth_vs_Dwan_post_flops_rankings\n",
    "Hellmuth_vs_Dwan_post_flop_dataset['In_or_Out_Decision'] = Hellmuth_vs_Dwan_post_flops_in_or_out_decision\n",
    "# Hellmuth_vs_Dwan_post_flop_dataset"
   ]
  },
  {
   "cell_type": "markdown",
   "id": "7fe2a97b",
   "metadata": {},
   "source": [
    "# When it makes no sense to ever fold (to_call == 0), Check or Raise?"
   ]
  },
  {
   "cell_type": "code",
   "execution_count": 159,
   "id": "3b232f1a",
   "metadata": {},
   "outputs": [],
   "source": [
    "Hellmuth_vs_Negreanu_pre_flops_impossible_to_fold = Hellmuth_vs_Negreanu_pre_flops.query('`Amount to Call in Big Blinds` ==  0')"
   ]
  },
  {
   "cell_type": "code",
   "execution_count": 160,
   "id": "8e3112e0",
   "metadata": {},
   "outputs": [],
   "source": [
    "Hellmuth_vs_Negreanu_post_flops_impossible_to_fold = Hellmuth_vs_Negreanu_post_flops.query('`Amount to Call in Big Blinds` ==  0')"
   ]
  },
  {
   "cell_type": "code",
   "execution_count": 161,
   "id": "1c4687e0",
   "metadata": {},
   "outputs": [],
   "source": [
    "Hellmuth_vs_Dwan_pre_flops_impossible_to_fold = Hellmuth_vs_Dwan_pre_flops.query('`Amount to Call in Big Blinds` ==  0')"
   ]
  },
  {
   "cell_type": "code",
   "execution_count": 162,
   "id": "15a69018",
   "metadata": {},
   "outputs": [],
   "source": [
    "Hellmuth_vs_Dwan_post_flops_impossible_to_fold = Hellmuth_vs_Dwan_post_flops.query('`Amount to Call in Big Blinds` ==  0')"
   ]
  },
  {
   "cell_type": "markdown",
   "id": "b37e8bd3",
   "metadata": {},
   "source": [
    "Only the post flops have this cases, so we oly analyze those."
   ]
  },
  {
   "cell_type": "markdown",
   "id": "c9db8f8b",
   "metadata": {},
   "source": [
    "### Check, Call = Check. Bet, Raise = Raise."
   ]
  },
  {
   "cell_type": "code",
   "execution_count": 176,
   "id": "6bbcdcfb",
   "metadata": {},
   "outputs": [],
   "source": [
    "HvN_no_fold_decision = Hellmuth_vs_Negreanu_post_flops_impossible_to_fold['Decision']"
   ]
  },
  {
   "cell_type": "code",
   "execution_count": 172,
   "id": "9517f7d4",
   "metadata": {},
   "outputs": [],
   "source": [
    "HvD_no_fold_decision = Hellmuth_vs_Dwan_post_flops_impossible_to_fold['Decision']"
   ]
  },
  {
   "cell_type": "markdown",
   "id": "6cb0611e",
   "metadata": {},
   "source": [
    "## Now we build the dataset that will be an input to the decision tree"
   ]
  },
  {
   "cell_type": "code",
   "execution_count": 191,
   "id": "c4dd8d2a",
   "metadata": {},
   "outputs": [
    {
     "name": "stderr",
     "output_type": "stream",
     "text": [
      "C:\\Users\\pedro\\AppData\\Local\\Temp/ipykernel_15896/2715152338.py:2: SettingWithCopyWarning: \n",
      "A value is trying to be set on a copy of a slice from a DataFrame.\n",
      "Try using .loc[row_indexer,col_indexer] = value instead\n",
      "\n",
      "See the caveats in the documentation: https://pandas.pydata.org/pandas-docs/stable/user_guide/indexing.html#returning-a-view-versus-a-copy\n",
      "  Hellmuth_vs_Negreanu_post_flops_impossible_to_fold_dataset['Hand Ranking'] = Hellmuth_vs_Negreanu_post_flop_dataset.query('`Amount to Call in Big Blinds` ==  0')['Hand Ranking']\n",
      "C:\\Users\\pedro\\AppData\\Local\\Temp/ipykernel_15896/2715152338.py:3: SettingWithCopyWarning: \n",
      "A value is trying to be set on a copy of a slice from a DataFrame.\n",
      "Try using .loc[row_indexer,col_indexer] = value instead\n",
      "\n",
      "See the caveats in the documentation: https://pandas.pydata.org/pandas-docs/stable/user_guide/indexing.html#returning-a-view-versus-a-copy\n",
      "  Hellmuth_vs_Negreanu_post_flops_impossible_to_fold_dataset['Check_Or_Raise_Decision'] = HvN_no_fold_decision\n",
      "C:\\Users\\pedro\\AppData\\Local\\Temp/ipykernel_15896/2715152338.py:6: SettingWithCopyWarning: \n",
      "A value is trying to be set on a copy of a slice from a DataFrame.\n",
      "Try using .loc[row_indexer,col_indexer] = value instead\n",
      "\n",
      "See the caveats in the documentation: https://pandas.pydata.org/pandas-docs/stable/user_guide/indexing.html#returning-a-view-versus-a-copy\n",
      "  Hellmuth_vs_Dwan_post_flops_impossible_to_fold_dataset['Hand Ranking'] = Hellmuth_vs_Dwan_post_flop_dataset.query('`Amount to Call in Big Blinds` ==  0')['Hand Ranking']\n",
      "C:\\Users\\pedro\\AppData\\Local\\Temp/ipykernel_15896/2715152338.py:7: SettingWithCopyWarning: \n",
      "A value is trying to be set on a copy of a slice from a DataFrame.\n",
      "Try using .loc[row_indexer,col_indexer] = value instead\n",
      "\n",
      "See the caveats in the documentation: https://pandas.pydata.org/pandas-docs/stable/user_guide/indexing.html#returning-a-view-versus-a-copy\n",
      "  Hellmuth_vs_Dwan_post_flops_impossible_to_fold_dataset['Check_Or_Raise_Decision'] = HvD_no_fold_decision\n"
     ]
    }
   ],
   "source": [
    "Hellmuth_vs_Negreanu_post_flops_impossible_to_fold_dataset = Hellmuth_vs_Negreanu_post_flops_impossible_to_fold[['Pot Size in Big Blinds','Amount to Call in Big Blinds', 'Big Blinds Left', 'Opponent Big Blinds Left']]\n",
    "Hellmuth_vs_Negreanu_post_flops_impossible_to_fold_dataset['Hand Ranking'] = Hellmuth_vs_Negreanu_post_flop_dataset.query('`Amount to Call in Big Blinds` ==  0')['Hand Ranking']\n",
    "Hellmuth_vs_Negreanu_post_flops_impossible_to_fold_dataset['Check_Or_Raise_Decision'] = HvN_no_fold_decision\n",
    "\n",
    "Hellmuth_vs_Dwan_post_flops_impossible_to_fold_dataset = Hellmuth_vs_Dwan_post_flops_impossible_to_fold[['Pot Size in Big Blinds','Amount to Call in Big Blinds', 'Big Blinds Left', 'Opponent Big Blinds Left']]\n",
    "Hellmuth_vs_Dwan_post_flops_impossible_to_fold_dataset['Hand Ranking'] = Hellmuth_vs_Dwan_post_flop_dataset.query('`Amount to Call in Big Blinds` ==  0')['Hand Ranking']\n",
    "Hellmuth_vs_Dwan_post_flops_impossible_to_fold_dataset['Check_Or_Raise_Decision'] = HvD_no_fold_decision"
   ]
  },
  {
   "cell_type": "markdown",
   "id": "818ca893",
   "metadata": {},
   "source": [
    "#  Building the Decision Trees in tensorflow"
   ]
  },
  {
   "cell_type": "code",
   "execution_count": 99,
   "id": "af622528",
   "metadata": {},
   "outputs": [
    {
     "name": "stderr",
     "output_type": "stream",
     "text": [
      "ERROR: Could not find a version that satisfies the requirement tensorflow_decision_forests (from versions: none)\n",
      "ERROR: No matching distribution found for tensorflow_decision_forests\n"
     ]
    }
   ],
   "source": [
    "!pip install tensorflow_decision_forests"
   ]
  },
  {
   "cell_type": "code",
   "execution_count": 91,
   "id": "27636490",
   "metadata": {},
   "outputs": [
    {
     "ename": "ModuleNotFoundError",
     "evalue": "No module named 'tensorflow_decision_forests'",
     "output_type": "error",
     "traceback": [
      "\u001b[1;31m---------------------------------------------------------------------------\u001b[0m",
      "\u001b[1;31mModuleNotFoundError\u001b[0m                       Traceback (most recent call last)",
      "\u001b[1;32m~\\AppData\\Local\\Temp/ipykernel_15896/401816866.py\u001b[0m in \u001b[0;36m<module>\u001b[1;34m\u001b[0m\n\u001b[1;32m----> 1\u001b[1;33m \u001b[1;32mimport\u001b[0m \u001b[0mtensorflow_decision_forests\u001b[0m \u001b[1;32mas\u001b[0m \u001b[0mtfdf\u001b[0m\u001b[1;33m\u001b[0m\u001b[1;33m\u001b[0m\u001b[0m\n\u001b[0m",
      "\u001b[1;31mModuleNotFoundError\u001b[0m: No module named 'tensorflow_decision_forests'"
     ]
    }
   ],
   "source": [
    "import tensorflow_decision_forests as tfdf"
   ]
  },
  {
   "cell_type": "markdown",
   "id": "c3b49ff2",
   "metadata": {},
   "source": [
    "# This package only runs on linux, so I will be continuing the project in a google colab"
   ]
  },
  {
   "cell_type": "markdown",
   "id": "63e177d7",
   "metadata": {},
   "source": [
    "## Download files to upload them to colab"
   ]
  },
  {
   "cell_type": "code",
   "execution_count": 105,
   "id": "7c5ef684",
   "metadata": {},
   "outputs": [],
   "source": [
    "Hellmuth_vs_Negreanu_pre_flop_dataset = Hellmuth_vs_Negreanu_pre_flop_dataset.to_csv('Hellmuth_vs_Negreanu_pre_flop_dataset.csv')\n",
    "Hellmuth_vs_Negreanu_post_flop_dataset = Hellmuth_vs_Negreanu_post_flop_dataset.to_csv('Hellmuth_vs_Negreanu_post_flop_dataset.csv')\n",
    "Hellmuth_vs_Dwan_pre_flop_dataset = Hellmuth_vs_Dwan_pre_flop_dataset.to_csv('Hellmuth_vs_Dwan_pre_flop_dataset.csv')\n",
    "Hellmuth_vs_Dwan_post_flop_dataset = Hellmuth_vs_Dwan_post_flop_dataset.to_csv('Hellmuth_vs_Dwan_post_flop_dataset.csv')"
   ]
  },
  {
   "cell_type": "code",
   "execution_count": 192,
   "id": "7b40801d",
   "metadata": {},
   "outputs": [],
   "source": [
    "Hellmuth_vs_Negreanu_post_flops_impossible_to_fold_dataset = Hellmuth_vs_Negreanu_post_flops_impossible_to_fold_dataset.to_csv('Hellmuth_vs_Negreanu_post_flops_impossible_to_fold_dataset.csv')\n",
    "Hellmuth_vs_Dwan_post_flops_impossible_to_fold_dataset = Hellmuth_vs_Dwan_post_flops_impossible_to_fold_dataset.to_csv('Hellmuth_vs_Dwan_post_flops_impossible_to_fold_dataset.csv')"
   ]
  }
 ],
 "metadata": {
  "kernelspec": {
   "display_name": "Python 3 (ipykernel)",
   "language": "python",
   "name": "python3"
  },
  "language_info": {
   "codemirror_mode": {
    "name": "ipython",
    "version": 3
   },
   "file_extension": ".py",
   "mimetype": "text/x-python",
   "name": "python",
   "nbconvert_exporter": "python",
   "pygments_lexer": "ipython3",
   "version": "3.9.7"
  }
 },
 "nbformat": 4,
 "nbformat_minor": 5
}
